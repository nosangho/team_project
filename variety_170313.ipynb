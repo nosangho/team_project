{
 "cells": [
  {
   "cell_type": "markdown",
   "metadata": {},
   "source": [
    "## 와인품종 카운팅\n",
    "* 와인 품종 중 상위 20개의 품종을 선택하여, 각 와인별로 품종을 카운팅한다. "
   ]
  },
  {
   "cell_type": "code",
   "execution_count": 10,
   "metadata": {
    "collapsed": true
   },
   "outputs": [],
   "source": [
    "import numpy as np\n",
    "import pandas as pd"
   ]
  },
  {
   "cell_type": "code",
   "execution_count": 6,
   "metadata": {
    "collapsed": false,
    "scrolled": true
   },
   "outputs": [],
   "source": [
    "v_table = pd.read_csv('v_text_170313.csv')\n",
    "v_table.columns = ['id', 'varieties']"
   ]
  },
  {
   "cell_type": "code",
   "execution_count": 7,
   "metadata": {
    "collapsed": false
   },
   "outputs": [
    {
     "data": {
      "text/html": [
       "<div>\n",
       "<table border=\"1\" class=\"dataframe\">\n",
       "  <thead>\n",
       "    <tr style=\"text-align: right;\">\n",
       "      <th></th>\n",
       "      <th>id</th>\n",
       "      <th>varieties</th>\n",
       "    </tr>\n",
       "  </thead>\n",
       "  <tbody>\n",
       "    <tr>\n",
       "      <th>0</th>\n",
       "      <td>37197</td>\n",
       "      <td>CabernetSauvignon86%,Carmenere7%,Merlot7%,</td>\n",
       "    </tr>\n",
       "    <tr>\n",
       "      <th>1</th>\n",
       "      <td>37198</td>\n",
       "      <td>CabernetSauvignon70%,Merlot20%,Carmenere&amp;Caber...</td>\n",
       "    </tr>\n",
       "    <tr>\n",
       "      <th>2</th>\n",
       "      <td>37204</td>\n",
       "      <td>Merlot80%,CabernetSauvignon20%,</td>\n",
       "    </tr>\n",
       "    <tr>\n",
       "      <th>3</th>\n",
       "      <td>37205</td>\n",
       "      <td>SauvignonBlanc60%,Semillon35%,Muscadelle5%,</td>\n",
       "    </tr>\n",
       "    <tr>\n",
       "      <th>4</th>\n",
       "      <td>37207</td>\n",
       "      <td>CabernetSauvignon100%,</td>\n",
       "    </tr>\n",
       "  </tbody>\n",
       "</table>\n",
       "</div>"
      ],
      "text/plain": [
       "      id                                          varieties\n",
       "0  37197         CabernetSauvignon86%,Carmenere7%,Merlot7%,\n",
       "1  37198  CabernetSauvignon70%,Merlot20%,Carmenere&Caber...\n",
       "2  37204                    Merlot80%,CabernetSauvignon20%,\n",
       "3  37205        SauvignonBlanc60%,Semillon35%,Muscadelle5%,\n",
       "4  37207                             CabernetSauvignon100%,"
      ]
     },
     "execution_count": 7,
     "metadata": {},
     "output_type": "execute_result"
    }
   ],
   "source": [
    "v_table.head()"
   ]
  },
  {
   "cell_type": "code",
   "execution_count": 9,
   "metadata": {
    "collapsed": false
   },
   "outputs": [],
   "source": [
    "v = pd.read_csv('varieties_170313.csv')\n",
    "encd_df = pd.DataFrame(v.columns)\n",
    "\n",
    "for k in range(len(v_table)):\n",
    "    #print k\n",
    "    encd = np.zeros(20)                    #각 와인별\n",
    "    for j in range(20):                    #각 카테고리별\n",
    "        for i in v.ix[:,j]:\n",
    "            if str(i) in v_table.ix[k,1]:\n",
    "                encd[j] += 1\n",
    "                #print encd[j]\n",
    "    encd_df[v_table.ix[k,0]] = encd\n",
    "encd_df.T.to_csv('v_encoding170314.csv')"
   ]
  }
 ],
 "metadata": {
  "kernelspec": {
   "display_name": "Python 2",
   "language": "python",
   "name": "python2"
  },
  "language_info": {
   "codemirror_mode": {
    "name": "ipython",
    "version": 2
   },
   "file_extension": ".py",
   "mimetype": "text/x-python",
   "name": "python",
   "nbconvert_exporter": "python",
   "pygments_lexer": "ipython2",
   "version": "2.7.13"
  }
 },
 "nbformat": 4,
 "nbformat_minor": 2
}
