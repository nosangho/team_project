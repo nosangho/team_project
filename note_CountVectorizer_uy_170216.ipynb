{
 "cells": [
  {
   "cell_type": "code",
   "execution_count": 1,
   "metadata": {
    "collapsed": false
   },
   "outputs": [],
   "source": [
    "from sklearn.feature_extraction.text import CountVectorizer\n",
    "import numpy as np\n",
    "import pandas as pd\n",
    "\n"
   ]
  },
  {
   "cell_type": "code",
   "execution_count": 10,
   "metadata": {
    "collapsed": false,
    "scrolled": true
   },
   "outputs": [
    {
     "name": "stdout",
     "output_type": "stream",
     "text": [
      "(17686, 6014)\n"
     ]
    }
   ],
   "source": [
    "# countervecterize로 분리\n",
    "source = pd.read_csv('t_note.csv', encoding='cp949')\n",
    "\n",
    "#print source.head()\n",
    "\n",
    "record1 = source['tastingnote1']\n",
    "record2 = source['tastingnote0']\n",
    "\n",
    "\n",
    "vec = CountVectorizer(encoding='utf-8')\n",
    "TF = vec.fit_transform(record2)\n",
    "\n",
    "# TF에 담긴 feature들을 저장한다.\n",
    "feature = vec.get_feature_names()\n",
    "\n",
    "print TF.shape\n",
    "# (문장수, feature수)\n",
    "\n",
    "temp1 = TF.data\n",
    "temp2 =TF.indices\n",
    "temp3 =TF.indptr\n",
    "\n",
    "#print temp1, temp2, temp3\n"
   ]
  },
  {
   "cell_type": "code",
   "execution_count": 11,
   "metadata": {
    "collapsed": false
   },
   "outputs": [],
   "source": [
    "# feature_names 저장 \n",
    "df= pd.DataFrame(feature)\n",
    "\n",
    "writer = pd.ExcelWriter('feature2.xlsx', engine=None)\n",
    "\n",
    "df.to_excel(writer, sheet_name='2', encoding ='utf-8')\n",
    "\n",
    "writer.save()"
   ]
  },
  {
   "cell_type": "code",
   "execution_count": 12,
   "metadata": {
    "collapsed": false
   },
   "outputs": [
    {
     "name": "stdout",
     "output_type": "stream",
     "text": [
      "        data  name_index\n",
      "0          1        3700\n",
      "1          1        4028\n",
      "2          1        2079\n",
      "3          1         900\n",
      "4          1         367\n",
      "5          1        1229\n",
      "6          1        2888\n",
      "7          1         766\n",
      "8          1         895\n",
      "9          1        1460\n",
      "10         1        4892\n",
      "11         1        4108\n",
      "12         1        3700\n",
      "13         1         367\n",
      "14         1        3041\n",
      "15         1        4887\n",
      "16         1        4007\n",
      "17         1        3130\n",
      "18         1         598\n",
      "19         1        1460\n",
      "20         1        4892\n",
      "21         1        3700\n",
      "22         1        4920\n",
      "23         1        5854\n",
      "24         1         611\n",
      "25         1        2385\n",
      "26         1        3041\n",
      "27         1        3700\n",
      "28         1        4903\n",
      "29         1        5880\n",
      "...      ...         ...\n",
      "110104     1        4007\n",
      "110105     1         598\n",
      "110106     1        4892\n",
      "110107     1        2671\n",
      "110108     1        2943\n",
      "110109     1        3786\n",
      "110110     1        5132\n",
      "110111     1        4543\n",
      "110112     1        1460\n",
      "110113     1        3700\n",
      "110114     1         182\n",
      "110115     1        3575\n",
      "110116     1        2993\n",
      "110117     1        3041\n",
      "110118     1        3130\n",
      "110119     1        1460\n",
      "110120     1        4892\n",
      "110121     1        3700\n",
      "110122     1         182\n",
      "110123     1         182\n",
      "110124     1        5704\n",
      "110125     1        3448\n",
      "110126     1        2208\n",
      "110127     1        3861\n",
      "110128     1         320\n",
      "110129     1        5516\n",
      "110130     1        1460\n",
      "110131     1        4892\n",
      "110132     1        4108\n",
      "110133     1        3700\n",
      "\n",
      "[110134 rows x 2 columns]\n"
     ]
    }
   ],
   "source": [
    "# feature 별 카운트 수 (입력한 라인별이라서 많음)\n",
    "dic={'name_index':temp2,'data':temp1}\n",
    "df1= pd.DataFrame(dic)\n",
    "\n",
    "print df1\n",
    "\n",
    "\n",
    "\n",
    "\n",
    "\n",
    "writer = pd.ExcelWriter('testingnote2.xlsx', engine=None)\n",
    "\n",
    "df1.to_excel(writer, sheet_name='1', encoding ='utf-8')\n",
    "\n",
    "writer.save()\n"
   ]
  }
 ],
 "metadata": {
  "kernelspec": {
   "display_name": "Python 2",
   "language": "python",
   "name": "python2"
  },
  "language_info": {
   "codemirror_mode": {
    "name": "ipython",
    "version": 2
   },
   "file_extension": ".py",
   "mimetype": "text/x-python",
   "name": "python",
   "nbconvert_exporter": "python",
   "pygments_lexer": "ipython2",
   "version": "2.7.13"
  }
 },
 "nbformat": 4,
 "nbformat_minor": 2
}
